{
 "cells": [
  {
   "cell_type": "markdown",
   "metadata": {},
   "source": [
    "# Lab 4\n",
    "## More Data Scraping and EDA\n",
    "\n",
    "In this lab, you will improve your skills in scraping data from web pages, organizing the data in a desired format, and performing EDA.\n",
    "\n",
    "For this lab, we are reusing code from Harvard's CS109: https://github.com/cs109/2015/blob/master/Lectures/02-DataScrapingQuizzes.ipynb\n",
    "\n",
    "## Lab4.A. Run code for scraping Indeed.com data\n",
    "\n",
    "You firs task will be to exectute the following blocks of code and try to understand what is happening after each line of the code. You will have to answer several questions to show your understanding.\n",
    "\n",
    "Let us start with importing of the relevant packages."
   ]
  },
  {
   "cell_type": "code",
   "execution_count": 1,
   "metadata": {},
   "outputs": [],
   "source": [
    "import urllib2\n",
    "import bs4 #this is beautiful soup\n",
    "\n",
    "import time\n",
    "from pandas import Series\n",
    "import pandas as pd\n",
    "from pandas import DataFrame\n",
    "import numpy as np\n",
    "import re\n",
    "\n",
    "import matplotlib\n",
    "import matplotlib.pyplot as plt\n",
    "%matplotlib inline"
   ]
  },
  {
   "cell_type": "markdown",
   "metadata": {},
   "source": [
    "As you see, you imported the package called `re`, which supports regular expression operations. You have already used the other packages. \n",
    "\n",
    "The following block will access and load the contents of an Indeed.com web page. It will probably give you a warning -- please ignore it."
   ]
  },
  {
   "cell_type": "code",
   "execution_count": 5,
   "metadata": {},
   "outputs": [],
   "source": [
    "# Fixed url for job postings containing data scientist\n",
    "url = 'http://www.indeed.com/jobs?q=data+scientist&l='\n",
    "# read the website\n",
    "source = urllib2.urlopen(url).read()\n",
    "# parse html code\n",
    "bs_tree = bs4.BeautifulSoup(source);"
   ]
  },
  {
   "cell_type": "markdown",
   "metadata": {},
   "source": [
    "** Question 1**:\n",
    " * What kind of page did you land on? Explain in a few sentences what is the content of this page.\n",
    " * What does the \"?\" and \"&\" in the url mean?\n",
    " * Explore the content of the web page. If you are using Firefox, open the page Inspector to understand how the underlying html code relates to the displayed content.\n",
    " * What pieces of the html code are responsible for showing the job title, company name, and job location?\n",
    " \n",
    "** Answer **: \n",
    " * The kind of page I landed on is an employment related search engine for a job listings, specifically a webpage for Data Scientists Jobs. It shows different data scientist jobs offered and can the job listings can be filtered depeing on location, salary, company, and etc.\n",
    " * The \"?\" symbol in the url is known as a query string which is basically like all the different parameter passed to website with the '&' symbol being a separtor for all the paramters just like a comma bewteen paramters pairs in python.\n",
    " * One entire job listing is separted into one div in which the title itself is a div with the company name and job location being in another div but just each formated differently using differnt types of tags such as a span or h2 tag.\n",
    " "
   ]
  },
  {
   "cell_type": "markdown",
   "metadata": {},
   "source": [
    "The following block of code will figure out how many job ads are there for jobs that contain \"data scientist' in the job title."
   ]
  },
  {
   "cell_type": "code",
   "execution_count": 6,
   "metadata": {},
   "outputs": [
    {
     "name": "stdout",
     "output_type": "stream",
     "text": [
      "\n",
      "        Page 1 of 24,697 jobs\n",
      "Search yielded 24,697 hits.\n",
      "24697\n"
     ]
    }
   ],
   "source": [
    "# see how many job postings we found\n",
    "job_count_string = bs_tree.find(id = 'searchCount').contents[0]\n",
    "print job_count_string # For Me to See full contents of String\n",
    "job_count_string = job_count_string.split()[-2]\n",
    "\n",
    "print(\"Search yielded %s hits.\" % (job_count_string))\n",
    "\n",
    "# not that job_count so far is still a string, \n",
    "# not an integer, and the , separator prevents \n",
    "# us from just casting it to int\n",
    "\n",
    "job_count_digits = [int(d) for d in job_count_string if d.isdigit()]\n",
    "job_count = np.sum([digit*(10**exponent) for digit, exponent in \n",
    "                    zip(job_count_digits[::-1], range(len(job_count_digits)))])\n",
    "\n",
    "print job_count"
   ]
  },
  {
   "cell_type": "markdown",
   "metadata": {},
   "source": [
    "** Question 2**:\n",
    "* What does the \"find(id = 'searchCount')\" in the first line mean?\n",
    "* What does the second line do?\n",
    "\n",
    "** Answer**:\n",
    "* The \"find(id = 'searchCount')\" finds the div/container called searchCount and returns the content of that div which in this case says Page 1 of 24,697 jobs.\n",
    "* The second line just says to split (the entire string returned) so that we only get the second to last word which in this case is the number of total job counts"
   ]
  },
  {
   "cell_type": "markdown",
   "metadata": {},
   "source": [
    "**Question 3**: \n",
    "* Write a piece of code that finds the Salary Estimate object on the page"
   ]
  },
  {
   "cell_type": "code",
   "execution_count": 13,
   "metadata": {},
   "outputs": [
    {
     "name": "stdout",
     "output_type": "stream",
     "text": [
      "<div class=\"rbSection rbOpen\" id=\"rb_Salary Estimate\">\n",
      "            <div class=\"rbHeader\">\n",
      "                <span aria-level=\"3\" class=\"ws_bold\" role=\"heading\">\n",
      "                    Salary Estimate</span>\n",
      "            </div>\n",
      "            <div class=\"rbsrbo\" id=\"SALARY_rbo\">\n",
      "                <ul class=\"rbList\">\n",
      "<li onmousedown=\"rbptk('rb', 'salest', '1');\">\n",
      "    <a href=\"/q-data-scientist-$55,000-jobs.html\" rel=\"nofollow\" title=\"$55,000 (19961)\">$55,000</a> (19961)</li>\n",
      "<li onmousedown=\"rbptk('rb', 'salest', '2');\">\n",
      "    <a href=\"/q-data-scientist-$75,000-jobs.html\" rel=\"nofollow\" title=\"$75,000 (15938)\">$75,000</a> (15938)</li>\n",
      "<li onmousedown=\"rbptk('rb', 'salest', '3');\">\n",
      "    <a href=\"/q-data-scientist-$95,000-jobs.html\" rel=\"nofollow\" title=\"$95,000 (11696)\">$95,000</a> (11696)</li>\n",
      "<li onmousedown=\"rbptk('rb', 'salest', '4');\">\n",
      "    <a href=\"/q-data-scientist-$110,000-jobs.html\" rel=\"nofollow\" title=\"$110,000 (8196)\">$110,000</a> (8196)</li>\n",
      "<li onmousedown=\"rbptk('rb', 'salest', '5');\">\n",
      "    <a href=\"/q-data-scientist-$130,000-jobs.html\" rel=\"nofollow\" title=\"$130,000 (4226)\">$130,000</a> (4226)</li>\n",
      "</ul>\n",
      "</div>\n",
      "        </div>\n"
     ]
    }
   ],
   "source": [
    "##ANSWER##\n",
    "\n",
    "salaryEst = bs_tree.find(id = 'rb_Salary Estimate')\n",
    "print salaryEst\n"
   ]
  },
  {
   "cell_type": "markdown",
   "metadata": {},
   "source": [
    "The following piece of code allows you to find the links to all the job ads on the page."
   ]
  },
  {
   "cell_type": "code",
   "execution_count": 16,
   "metadata": {},
   "outputs": [
    {
     "name": "stdout",
     "output_type": "stream",
     "text": [
      "We found a lot of jobs:  12\n"
     ]
    }
   ],
   "source": [
    "# The website is only listing 10 results per page, \n",
    "# so we need to scrape them page after page\n",
    "num_pages = int(np.ceil(job_count/10.0))\n",
    "\n",
    "base_url = 'http://www.indeed.com'\n",
    "job_links = []\n",
    "for i in range(1): #do range(num_pages) if you want them all\n",
    "    url = 'http://www.indeed.com/jobs?q=data+scientist&start=' + str(i*10)\n",
    "    html_page = urllib2.urlopen(url).read() \n",
    "    bs_tree = bs4.BeautifulSoup(html_page)\n",
    "    job_link_area = bs_tree.find(id = 'resultsCol')\n",
    "    job_postings = job_link_area.findAll(\"div\")\n",
    "    job_postings = [jp for jp in job_postings if not jp.get('class') is None \n",
    "                    and ''.join(jp.get('class')) ==\"rowresult\"]\n",
    "    job_ids = [jp.get('data-jk') for jp in job_postings]\n",
    "    \n",
    "    # go after each link\n",
    "    for id in job_ids:\n",
    "        job_links.append(base_url + '/rc/clk?jk=' + id)\n",
    "\n",
    "    time.sleep(1)\n",
    "\n",
    "print \"We found a lot of jobs: \", len(job_links)"
   ]
  },
  {
   "cell_type": "markdown",
   "metadata": {},
   "source": [
    "**Question 4**:\n",
    "* explain why is `url` (first line in the for loop) defined as it is. What page are you landing at when `i = 3`?\n",
    "* What does command `bs_tree.find(id = 'resultsCol')` do?\n",
    "* What does command `''.join(jp.get('class'))` do?\n",
    "* Explain the properties and content of `job_links`\n",
    "\n",
    "**ANSWER**:\n",
    "* Since there are many jobs and so many pages the url keeps changing and therefore depending on the page number a static variable is included to the url at the very end. In this case, when you go to another page the variable changes by an increment of ten so when i=3 you will actually be on page 4 as page 1 is actually when i=0.\n",
    "* The command `bs_tree.find(id = 'resultsCol')` finds the html node in the tree called resultsCol and wil store all of resultsCol's children nodes and itself into job link area(the entire website is made into a tree). \n",
    "* The command `''.join(jp.get('class'))` gets all the classes of the nodes as a string and joins them together into a single string\n",
    "* The properties of job links is that it is a list which can be accessed inside the loop since it is not locally declared. The contents of the list is all the different links of jobs accessed inside the loop are added to the list so they can be used later. "
   ]
  },
  {
   "cell_type": "markdown",
   "metadata": {},
   "source": [
    "**Question 5**:\n",
    "* Reuse the code above to find links to the first 200 listed data science jobs"
   ]
  },
  {
   "cell_type": "code",
   "execution_count": 18,
   "metadata": {},
   "outputs": [
    {
     "name": "stdout",
     "output_type": "stream",
     "text": [
      "We found a lot of jobs:  200\n"
     ]
    }
   ],
   "source": [
    "# The website is only listing 10 results per page, \n",
    "# so we need to scrape them page after page\n",
    "\n",
    "base_url = 'http://www.indeed.com'\n",
    "links200 = []\n",
    "for i in range(20): #Since each page has more than ten entries\n",
    "    url = 'http://www.indeed.com/jobs?q=data+scientist&start=' + str(i*10)\n",
    "    html_page = urllib2.urlopen(url).read() \n",
    "    bs_tree = bs4.BeautifulSoup(html_page)\n",
    "    job_link_area = bs_tree.find(id = 'resultsCol')\n",
    "    job_postings = job_link_area.findAll(\"div\")\n",
    "    job_postings = [jp for jp in job_postings if not jp.get('class') is None \n",
    "                    and ''.join(jp.get('class')) ==\"rowresult\"]\n",
    "    job_ids = [jp.get('data-jk') for jp in job_postings]\n",
    "    \n",
    "    # go after each link\n",
    "    for id in job_ids:\n",
    "        links200.append(base_url + '/rc/clk?jk=' + id)\n",
    "        #This is to break out of nested for loop\n",
    "        if( len(links200)==200):\n",
    "            break\n",
    "    # this is to break out of outer for loop        \n",
    "    if( len(links200)==200):\n",
    "            break        \n",
    "    time.sleep(1)\n",
    "\n",
    "print \"We found a lot of jobs: \", len(links200)"
   ]
  },
  {
   "cell_type": "markdown",
   "metadata": {},
   "source": [
    "The following piece of code accesses and grabs the content of all ads in the `job_links` and extracts all the human-readable text tokens. Then, it counts on how many pages are words `mapreduce`, `spark`, and `visualization` used. It might take a few seconds to execute."
   ]
  },
  {
   "cell_type": "code",
   "execution_count": 43,
   "metadata": {},
   "outputs": [
    {
     "name": "stdout",
     "output_type": "stream",
     "text": [
      "7\n",
      "{'visualization': 1, 'spark': 1, 'mapreduce': 0}\n",
      "2\n",
      "{'visualization': 3, 'spark': 4, 'mapreduce': 0}\n",
      "{'visualization': 3, 'spark': 4, 'mapreduce': 0}\n"
     ]
    }
   ],
   "source": [
    "skill_set = {'mapreduce':0, 'spark':0, 'visualization':0}\n",
    "counter = 0\n",
    "\n",
    "for link in job_links:\n",
    "    counter +=1  \n",
    "    \n",
    "    try:\n",
    "        html_page = urllib2.urlopen(link).read()\n",
    "    except urllib2.HTTPError:\n",
    "        print \"HTTPError:\"\n",
    "        continue\n",
    "    except urllib2.URLError:\n",
    "        print \"URLError:\"\n",
    "        continue\n",
    "    except socket.error as error:\n",
    "        print \"Connection closed\"\n",
    "        continue\n",
    "  \n",
    "    html_text = re.sub(\"[^a-z.+3]\",\" \", html_page.lower()) # replace all but the listed characters  \n",
    "    \n",
    "    for key in skill_set.keys():\n",
    "        if key in html_text:  \n",
    "            skill_set[key] +=1\n",
    "            \n",
    "    if counter % 5 == 0:\n",
    "        print len(job_links) - counter\n",
    "        print skill_set\n",
    "            \n",
    "print skill_set\n",
    "\n"
   ]
  },
  {
   "cell_type": "markdown",
   "metadata": {},
   "source": [
    "** Question 6**\n",
    "* What does the `re.sub()` do in the above code? To answer this, you will have to go to the documentation of the regular expression package (find it on web).\n",
    "* What is the meaning of `[^a-z.+3]`?\n",
    "* What is the content of `skill_set`?\n",
    "\n",
    "**ANSWER**:\n",
    "* The re.sub fucntion takes in 3 arguments which are a string, some sort of pattern in the string, and a string to replace pattern with. In this case, the function takes in the html page of the link and finds the pattern `[^a-z.+3]` and replaces it with a blank space.\n",
    "* `[^a-z.+3]` means that the charcters can be anything except from lowercase a to lowercase z and any pattern of charcters (not a newline) where there are 3 repititons after a nonletter.\n",
    "* skillset is a dictionary which shows the number of occureences of each skill of a mapreduce, visulization, or a spark.\n"
   ]
  },
  {
   "cell_type": "markdown",
   "metadata": {},
   "source": [
    "The following piece of code plots the counts of different skills in the processed ads."
   ]
  },
  {
   "cell_type": "code",
   "execution_count": 23,
   "metadata": {},
   "outputs": [
    {
     "data": {
      "image/png": "[encoded data removed]",
      "text/plain": [
       "<matplotlib.figure.Figure at 0x11403fbd0>"
      ]
     },
     "metadata": {},
     "output_type": "display_data"
    }
   ],
   "source": [
    "pseries = pd.Series(skill_set)\n",
    "pseries.sort_values(ascending=False)\n",
    "\n",
    "pseries.plot(kind = 'bar')\n",
    "## set the title to Score Comparison\n",
    "plt.title('Data Science Skills')\n",
    "## set the x label\n",
    "plt.xlabel('Skills')\n",
    "## set the y label\n",
    "plt.ylabel('Count')\n",
    "## show the plot\n",
    "plt.show()"
   ]
  },
  {
   "cell_type": "markdown",
   "metadata": {},
   "source": [
    "**Question 7**:\n",
    "- rerun the code to find the counts of the 3 data science skills on the first 200 job ads"
   ]
  },
  {
   "cell_type": "code",
   "execution_count": 25,
   "metadata": {},
   "outputs": [
    {
     "name": "stdout",
     "output_type": "stream",
     "text": [
      "190\n",
      "{'visualization': 2, 'spark': 4, 'mapreduce': 0}\n",
      "180\n",
      "{'visualization': 6, 'spark': 5, 'mapreduce': 0}\n",
      "170\n",
      "{'visualization': 9, 'spark': 7, 'mapreduce': 0}\n",
      "HTTPError:\n",
      "HTTPError:\n",
      "HTTPError:\n",
      "HTTPError:\n",
      "160\n",
      "{'visualization': 10, 'spark': 9, 'mapreduce': 1}\n",
      "HTTPError:\n",
      "HTTPError:\n",
      "HTTPError:\n",
      "HTTPError:\n",
      "150\n",
      "{'visualization': 11, 'spark': 10, 'mapreduce': 1}\n",
      "140\n",
      "{'visualization': 12, 'spark': 14, 'mapreduce': 1}\n",
      "130\n",
      "{'visualization': 16, 'spark': 18, 'mapreduce': 3}\n",
      "HTTPError:\n",
      "120\n",
      "{'visualization': 19, 'spark': 21, 'mapreduce': 4}\n",
      "HTTPError:\n",
      "HTTPError:\n",
      "HTTPError:\n",
      "HTTPError:\n",
      "HTTPError:\n",
      "110\n",
      "{'visualization': 19, 'spark': 21, 'mapreduce': 4}\n",
      "HTTPError:\n",
      "HTTPError:\n",
      "HTTPError:\n",
      "100\n",
      "{'visualization': 20, 'spark': 24, 'mapreduce': 5}\n",
      "HTTPError:\n",
      "90\n",
      "{'visualization': 21, 'spark': 25, 'mapreduce': 5}\n",
      "URLError:\n",
      "80\n",
      "{'visualization': 23, 'spark': 27, 'mapreduce': 5}\n",
      "HTTPError:\n",
      "70\n",
      "{'visualization': 27, 'spark': 28, 'mapreduce': 5}\n",
      "60\n",
      "{'visualization': 31, 'spark': 34, 'mapreduce': 7}\n",
      "50\n",
      "{'visualization': 36, 'spark': 37, 'mapreduce': 7}\n",
      "HTTPError:\n",
      "HTTPError:\n",
      "40\n",
      "{'visualization': 38, 'spark': 42, 'mapreduce': 7}\n",
      "HTTPError:\n",
      "HTTPError:\n",
      "20\n",
      "{'visualization': 41, 'spark': 46, 'mapreduce': 7}\n",
      "HTTPError:\n",
      "10\n",
      "{'visualization': 41, 'spark': 50, 'mapreduce': 7}\n",
      "0\n",
      "{'visualization': 45, 'spark': 54, 'mapreduce': 7}\n",
      "\n",
      "{'visualization': 45, 'spark': 54, 'mapreduce': 7}\n"
     ]
    },
    {
     "data": {
      "image/png": "[encoded data removed]",
      "text/plain": [
       "<matplotlib.figure.Figure at 0x114be2ad0>"
      ]
     },
     "metadata": {},
     "output_type": "display_data"
    }
   ],
   "source": [
    "skill_set2 = {'mapreduce':0, 'spark':0, 'visualization':0}\n",
    "counter = 0\n",
    "for link in links200:\n",
    "    counter +=1  \n",
    "    \n",
    "    try:\n",
    "        html_page = urllib2.urlopen(link).read()\n",
    "    except urllib2.HTTPError:\n",
    "        print \"HTTPError:\" \n",
    "        continue\n",
    "    except urllib2.URLError:\n",
    "        print \"URLError:\"\n",
    "        continue\n",
    "    except socket.error as error:\n",
    "        print \"Connection closed\"\n",
    "        continue\n",
    "\n",
    "    html_text = re.sub(\"[^a-z.+3]\",\" \", html_page.lower()) # replace all but the listed characters\n",
    "        \n",
    "    for key in skill_set2.keys():\n",
    "        if key in html_text:  \n",
    "            skill_set2[key] +=1\n",
    "            \n",
    "    if counter % 10 == 0:\n",
    "        print len(links200) - counter \n",
    "        print skill_set2\n",
    "            \n",
    "print\n",
    "print skill_set2 # Final skill set\n",
    "\n",
    "pseries = pd.Series(skill_set2)\n",
    "pseries.sort_values(ascending=False)\n",
    "\n",
    "pseries.plot(kind = 'bar')\n",
    "## set the title to Score Comparison\n",
    "plt.title('Data Science Skills')\n",
    "## set the x label\n",
    "plt.xlabel('Skills')\n",
    "## set the y label\n",
    "plt.ylabel('Count')\n",
    "## show the plot\n",
    "plt.show()"
   ]
  },
  {
   "cell_type": "markdown",
   "metadata": {
    "collapsed": true
   },
   "source": [
    "## Lab 4.B: Data analysis of job skills\n",
    "In the first part of the lab, you created `skill_set` dictionary that counts occurences of 3 important data science skills. In this part of the lab we are asking you to create pandas `DataFrame` object as a table whose rows correspond to individual ads and columns correspond to important information about the ads and skills mentioned on those pages. Let us call the table `job_ads`. Process the first 1,000 data science ads, so your table should have 1,000 rows. For each ad, you will have to create the following columns:\n",
    "- job title\n",
    "- company name\n",
    "- job location\n",
    "- skill 1\n",
    "- skill 2\n",
    "- ...\n",
    "- skill 20\n",
    "\n",
    "Job title, company name, and job locations will be readable from the Indeed.com page. We are asking you to list 20 skills, instead of only 3 in the code above ('mapreduce', 'spark', 'visualization'). You will need to find another 17 words that are commonly used in data science job ads. To do it, please explore the content of at least 10 ads.\n",
    "\n",
    "Once you creat your `job_ads` table, please preform EDA of the table, in a similar way you did in Lab 2: provide code and a 2-page document that summarizes interesitng insights about the first 1,000 data science jobs.\n",
    "\n",
    "**Deliverables**:\n",
    "- the modified Lab 4 .ipynb file that contains all the answers to the questions\n",
    "- a 2-page documents presenting the results of your EDA of the `job_ads` data"
   ]
  },
  {
   "cell_type": "markdown",
   "metadata": {},
   "source": [
    "**THE FOLLOWING IS CODE TO GENERATE DATAFRAME AS WELL AS CODE TO PRODUCE MEANINGFUL GRAPHS**"
   ]
  },
  {
   "cell_type": "code",
   "execution_count": 3,
   "metadata": {},
   "outputs": [
    {
     "data": {
      "text/plain": [
       "(1000, 23)"
      ]
     },
     "execution_count": 3,
     "metadata": {},
     "output_type": "execute_result"
    }
   ],
   "source": [
    "# Dataframe of 1000 with title, company, loc and 20 skills\n",
    "job_ads = pd.DataFrame()\n",
    "base_url2 = \"http://www.indeed.com\"\n",
    "linkcounter=0\n",
    "for i in range(135): #Since an average of 10 jobs appear on a page 135 should be more than enough pages\n",
    "    \n",
    "    url = 'http://www.indeed.com/jobs?q=data+scientist&start=' + str(i*10)\n",
    "    html_page = urllib2.urlopen(url).read() \n",
    "    bs_tree = bs4.BeautifulSoup(html_page)\n",
    "    job_link_area = bs_tree.find(id = 'resultsCol') \n",
    "    job_postings = job_link_area.findAll(\"div\", {'class': ' row result'})\n",
    "    \n",
    "    for jp in job_postings:\n",
    "        if(linkcounter==1000): # break out of nested loop\n",
    "            break\n",
    "        else:\n",
    "            company= jp.find('span',{\"class\":\"company\"}).getText().strip()\n",
    "            location = jp.find('span',{\"class\":\"location\"}).getText().strip()\n",
    "            title =jp.find('a', attrs={'class': 'turnstileLink'}).attrs['title']\n",
    "            link2 = \"%s%s\" % (base_url2, jp.find('a').get('href'))\n",
    "            entry={'Title': title, 'Company': company, 'Location': location, \n",
    "                      'mapreduce':0, 'spark':0, 'visualization':0,\n",
    "                      'hadoop':0, 'machine learning':0, 'python':0, 'aws':0,\n",
    "                      'sas':0, 'spss':0, 'tableau':0, 'scala':0,'r':0, \n",
    "                      'matlab':0, 'azure':0, 'java':0,'hive':0, \n",
    "                      'excel':0, 'sql':0, 'octave':0,'julia':0,}\n",
    "            try:\n",
    "                link_page = urllib2.urlopen(link2).read()\n",
    "            except urllib2.HTTPError:\n",
    "                #print \"HTTPError:\"\n",
    "                continue\n",
    "            except urllib2.URLError:\n",
    "                #print \"URLError:\"\n",
    "                continue\n",
    "            except socket.error as error:\n",
    "               # print \"Connection closed\"\n",
    "                continue\n",
    "            linkcounter +=1 # increment counter as no failure in opening page\n",
    "            link_text = re.sub(\"[^a-z.+3]\",\" \", link_page.lower())\n",
    "            for key in entry.keys():\n",
    "                if key ==\"Title\" or key == \"Company\" or key == \"Location\":\n",
    "                    continue\n",
    "                if key in link_text:  \n",
    "                    entry[key] +=1\n",
    "            job_ads=job_ads.append(entry, ignore_index=True)\n",
    "    if (linkcounter==1000): #break out of main loop\n",
    "        break\n",
    "job_ads.shape"
   ]
  },
  {
   "cell_type": "code",
   "execution_count": 112,
   "metadata": {},
   "outputs": [
    {
     "data": {
      "image/png": "[encoded data removed]",
      "text/plain": [
       "<matplotlib.figure.Figure at 0x11ed68950>"
      ]
     },
     "metadata": {},
     "output_type": "display_data"
    }
   ],
   "source": [
    "#Number of times each skill word appears for 1000 jobs\n",
    "df=job_ads;\n",
    "skills={              'mapreduce':df['mapreduce'].sum(), 'spark':df['spark'].sum(), 'visualization':df['visualization'].sum(),\n",
    "                      'hadoop':df['hadoop'].sum(), 'machine learning':df['machine learning'].sum(),\n",
    "                      'python':df['python'].sum(), 'aws':df['aws'].sum(),\n",
    "                      'sas':df['sas'].sum(), 'spss':df['spss'].sum(), 'tableau':df['tableau'].sum(),\n",
    "                      'scala':df['scala'].sum(),'r':df['r'].sum(), \n",
    "                      'matlab':df['matlab'].sum(), 'azure':df['azure'].sum(), 'java':df['java'].sum(),\n",
    "                      'hive':df['hive'].sum(), \n",
    "                      'excel':df['excel'].sum(), 'sql':df['sql'].sum(), 'octave':df['octave'].sum(),\n",
    "                      'julia':df['julia'].sum(),}\n",
    "\n",
    "sd=pd.Series(skills)\n",
    "plt.figure(figsize=(7,4))\n",
    "sd.plot(kind='bar')\n",
    "\n",
    "plt.title(\"Skill Count\");\n",
    "plt.xlabel(\"Skills\");\n",
    "plt.ylabel(\"Count\");\n"
   ]
  },
  {
   "cell_type": "code",
   "execution_count": 86,
   "metadata": {},
   "outputs": [
    {
     "data": {
      "image/png": "[encoded data removed]",
      "text/plain": [
       "<matplotlib.figure.Figure at 0x11d9f43d0>"
      ]
     },
     "metadata": {},
     "output_type": "display_data"
    }
   ],
   "source": [
    "#Top Locations for Data Scientists\n",
    "js=df['Location'].value_counts()\n",
    "js=js[js.values>=12];\n",
    "plt.title(\"Top Locations for Data Scientists\")\n",
    "bp=js.plot(kind=\"pie\",figsize=(6,6));\n",
    "bp.get_figure().gca().set_ylabel(\"\");"
   ]
  },
  {
   "cell_type": "code",
   "execution_count": 113,
   "metadata": {},
   "outputs": [
    {
     "data": {
      "image/png": "[encoded data removed]",
      "text/plain": [
       "<matplotlib.figure.Figure at 0x11f56ac90>"
      ]
     },
     "metadata": {},
     "output_type": "display_data"
    }
   ],
   "source": [
    "#Top Companis for Data Scientists\n",
    "com=df['Company'].value_counts()\n",
    "com=com[com.values>=5];\n",
    "xticks=[\"Apple\",\"ASG Renaissance\",\"Screen Actors Guild\",\"Brookhaven National\\n Laboratory\",\"The University\\n of Pittsburgh\",\n",
    "        \"MAXIMUS\", \"Google\",\"Overstock.com\",\"Predictive Science\",\"United Network\\n for Organ Sharing\",\"IBM\",\"McKinsey & Company\",\n",
    "       \"Twitch\",\"Adobe\",\"JP Morgan Chase\",\"Intel\",\"Susquehanna\\n International Group\",\"Vanguard\",\"Amazon.com\"]\n",
    "plt.title(\"Top Companies for Data Scientists\")\n",
    "com.plot(kind=\"bar\",figsize=(10,6));\n",
    "ind=range(19)\n",
    "plt.xticks(ind,xticks)\n",
    "plt.xlabel(\"Company Name\");\n",
    "plt.ylabel(\"Job Count\");\n",
    "\n"
   ]
  },
  {
   "cell_type": "code",
   "execution_count": null,
   "metadata": {},
   "outputs": [],
   "source": []
  }
 ],
 "metadata": {
  "anaconda-cloud": {},
  "kernelspec": {
   "display_name": "Python 2",
   "language": "python",
   "name": "python2"
  },
  "language_info": {
   "codemirror_mode": {
    "name": "ipython",
    "version": 2
   },
   "file_extension": ".py",
   "mimetype": "text/x-python",
   "name": "python",
   "nbconvert_exporter": "python",
   "pygments_lexer": "ipython2",
   "version": "2.7.14"
  }
 },
 "nbformat": 4,
 "nbformat_minor": 2
}
